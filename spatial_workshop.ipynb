{
 "cells": [
  {
   "cell_type": "markdown",
   "metadata": {},
   "source": [
    "# Spatial Statistics Workshop"
   ]
  },
  {
   "cell_type": "code",
   "execution_count": 1,
   "metadata": {},
   "outputs": [],
   "source": [
    "import geopandas as gpd\n",
    "import pandas as pd\n",
    "import matplotlib.pyplot as plt\n",
    "import numpy as np\n",
    "from scipy.special import comb\n",
    "from sklearn.metrics.pairwise import haversine_distances,euclidean_distances\n",
    "from sklearn.linear_model import LinearRegression\n",
    "import statsmodels.api as sm\n"
   ]
  },
  {
   "cell_type": "markdown",
   "metadata": {},
   "source": [
    "## Bring in the data we just made:"
   ]
  },
  {
   "cell_type": "code",
   "execution_count": 4,
   "metadata": {},
   "outputs": [],
   "source": [
    "# Bring in Data.\n",
    "df = pd.read_csv('geostatistics_data.txt')\n",
    "df = gpd.GeoDataFrame(\n",
    "    df, geometry=gpd.points_from_xy(df.Long, df.Lat))\n",
    "\n",
    "N = df.shape[0]\n"
   ]
  },
  {
   "cell_type": "markdown",
   "metadata": {},
   "source": [
    "## Here's what it looks like:"
   ]
  },
  {
   "cell_type": "code",
   "execution_count": 5,
   "metadata": {},
   "outputs": [
    {
     "data": {
      "text/html": [
       "<div>\n",
       "<style scoped>\n",
       "    .dataframe tbody tr th:only-of-type {\n",
       "        vertical-align: middle;\n",
       "    }\n",
       "\n",
       "    .dataframe tbody tr th {\n",
       "        vertical-align: top;\n",
       "    }\n",
       "\n",
       "    .dataframe thead th {\n",
       "        text-align: right;\n",
       "    }\n",
       "</style>\n",
       "<table border=\"1\" class=\"dataframe\">\n",
       "  <thead>\n",
       "    <tr style=\"text-align: right;\">\n",
       "      <th></th>\n",
       "      <th>Location</th>\n",
       "      <th>Name</th>\n",
       "      <th>PairID</th>\n",
       "      <th>Dollars</th>\n",
       "      <th>Busiest</th>\n",
       "      <th>Rating</th>\n",
       "      <th>Lat</th>\n",
       "      <th>Long</th>\n",
       "      <th>geometry</th>\n",
       "    </tr>\n",
       "  </thead>\n",
       "  <tbody>\n",
       "    <tr>\n",
       "      <th>0</th>\n",
       "      <td>DC</td>\n",
       "      <td>Peacock Cafe</td>\n",
       "      <td>1</td>\n",
       "      <td>2</td>\n",
       "      <td>13</td>\n",
       "      <td>4.4</td>\n",
       "      <td>38.90624</td>\n",
       "      <td>-77.06387</td>\n",
       "      <td>POINT (-77.06387 38.90624)</td>\n",
       "    </tr>\n",
       "    <tr>\n",
       "      <th>1</th>\n",
       "      <td>DC</td>\n",
       "      <td>Cafe Milano</td>\n",
       "      <td>1</td>\n",
       "      <td>3</td>\n",
       "      <td>20</td>\n",
       "      <td>4.4</td>\n",
       "      <td>38.90626</td>\n",
       "      <td>-77.06365</td>\n",
       "      <td>POINT (-77.06365 38.90626)</td>\n",
       "    </tr>\n",
       "    <tr>\n",
       "      <th>2</th>\n",
       "      <td>DC</td>\n",
       "      <td>The Midlands Beer Garden</td>\n",
       "      <td>2</td>\n",
       "      <td>2</td>\n",
       "      <td>19</td>\n",
       "      <td>4.4</td>\n",
       "      <td>38.93191</td>\n",
       "      <td>-77.02330</td>\n",
       "      <td>POINT (-77.02330 38.93191)</td>\n",
       "    </tr>\n",
       "    <tr>\n",
       "      <th>3</th>\n",
       "      <td>DC</td>\n",
       "      <td>Hook Hall</td>\n",
       "      <td>2</td>\n",
       "      <td>2</td>\n",
       "      <td>22</td>\n",
       "      <td>4.3</td>\n",
       "      <td>38.93230</td>\n",
       "      <td>-77.02388</td>\n",
       "      <td>POINT (-77.02388 38.93230)</td>\n",
       "    </tr>\n",
       "    <tr>\n",
       "      <th>4</th>\n",
       "      <td>Baltimore</td>\n",
       "      <td>Phillips Seafood</td>\n",
       "      <td>3</td>\n",
       "      <td>2</td>\n",
       "      <td>19</td>\n",
       "      <td>4.1</td>\n",
       "      <td>39.28646</td>\n",
       "      <td>-76.60717</td>\n",
       "      <td>POINT (-76.60717 39.28646)</td>\n",
       "    </tr>\n",
       "    <tr>\n",
       "      <th>5</th>\n",
       "      <td>Baltimore</td>\n",
       "      <td>Hard Rock Cafe</td>\n",
       "      <td>3</td>\n",
       "      <td>2</td>\n",
       "      <td>14</td>\n",
       "      <td>4.0</td>\n",
       "      <td>39.28610</td>\n",
       "      <td>-76.60712</td>\n",
       "      <td>POINT (-76.60712 39.28610)</td>\n",
       "    </tr>\n",
       "    <tr>\n",
       "      <th>6</th>\n",
       "      <td>Harper's Ferry</td>\n",
       "      <td>Kelley Farm Kitchen</td>\n",
       "      <td>4</td>\n",
       "      <td>-1</td>\n",
       "      <td>13</td>\n",
       "      <td>4.9</td>\n",
       "      <td>39.32645</td>\n",
       "      <td>-77.74629</td>\n",
       "      <td>POINT (-77.74629 39.32645)</td>\n",
       "    </tr>\n",
       "    <tr>\n",
       "      <th>7</th>\n",
       "      <td>Harper's Ferry</td>\n",
       "      <td>Snallygaster's</td>\n",
       "      <td>4</td>\n",
       "      <td>-1</td>\n",
       "      <td>13</td>\n",
       "      <td>5.0</td>\n",
       "      <td>39.32640</td>\n",
       "      <td>-77.74610</td>\n",
       "      <td>POINT (-77.74610 39.32640)</td>\n",
       "    </tr>\n",
       "    <tr>\n",
       "      <th>8</th>\n",
       "      <td>Verviers (BE)</td>\n",
       "      <td>McDonald's</td>\n",
       "      <td>5</td>\n",
       "      <td>2</td>\n",
       "      <td>13</td>\n",
       "      <td>3.8</td>\n",
       "      <td>50.58896</td>\n",
       "      <td>5.84952</td>\n",
       "      <td>POINT (5.84952 50.58896)</td>\n",
       "    </tr>\n",
       "    <tr>\n",
       "      <th>9</th>\n",
       "      <td>Verviers (BE)</td>\n",
       "      <td>El Camino</td>\n",
       "      <td>5</td>\n",
       "      <td>-1</td>\n",
       "      <td>19</td>\n",
       "      <td>4.4</td>\n",
       "      <td>50.59023</td>\n",
       "      <td>5.84809</td>\n",
       "      <td>POINT (5.84809 50.59023)</td>\n",
       "    </tr>\n",
       "    <tr>\n",
       "      <th>10</th>\n",
       "      <td>Vientiane (LA)</td>\n",
       "      <td>Adresse de Tinay</td>\n",
       "      <td>6</td>\n",
       "      <td>-1</td>\n",
       "      <td>13</td>\n",
       "      <td>4.2</td>\n",
       "      <td>17.96525</td>\n",
       "      <td>102.60342</td>\n",
       "      <td>POINT (102.60342 17.96525)</td>\n",
       "    </tr>\n",
       "    <tr>\n",
       "      <th>11</th>\n",
       "      <td>Vientiane (LA)</td>\n",
       "      <td>Nazim</td>\n",
       "      <td>6</td>\n",
       "      <td>2</td>\n",
       "      <td>19</td>\n",
       "      <td>4.0</td>\n",
       "      <td>17.96515</td>\n",
       "      <td>102.60300</td>\n",
       "      <td>POINT (102.60300 17.96515)</td>\n",
       "    </tr>\n",
       "  </tbody>\n",
       "</table>\n",
       "</div>"
      ],
      "text/plain": [
       "          Location                       Name  PairID  Dollars  Busiest  \\\n",
       "0               DC               Peacock Cafe       1        2       13   \n",
       "1               DC                Cafe Milano       1        3       20   \n",
       "2               DC   The Midlands Beer Garden       2        2       19   \n",
       "3               DC                  Hook Hall       2        2       22   \n",
       "4        Baltimore           Phillips Seafood       3        2       19   \n",
       "5        Baltimore             Hard Rock Cafe       3        2       14   \n",
       "6   Harper's Ferry        Kelley Farm Kitchen       4       -1       13   \n",
       "7   Harper's Ferry             Snallygaster's       4       -1       13   \n",
       "8    Verviers (BE)                 McDonald's       5        2       13   \n",
       "9    Verviers (BE)                  El Camino       5       -1       19   \n",
       "10  Vientiane (LA)           Adresse de Tinay       6       -1       13   \n",
       "11  Vientiane (LA)                      Nazim       6        2       19   \n",
       "\n",
       "    Rating       Lat       Long                    geometry  \n",
       "0      4.4  38.90624  -77.06387  POINT (-77.06387 38.90624)  \n",
       "1      4.4  38.90626  -77.06365  POINT (-77.06365 38.90626)  \n",
       "2      4.4  38.93191  -77.02330  POINT (-77.02330 38.93191)  \n",
       "3      4.3  38.93230  -77.02388  POINT (-77.02388 38.93230)  \n",
       "4      4.1  39.28646  -76.60717  POINT (-76.60717 39.28646)  \n",
       "5      4.0  39.28610  -76.60712  POINT (-76.60712 39.28610)  \n",
       "6      4.9  39.32645  -77.74629  POINT (-77.74629 39.32645)  \n",
       "7      5.0  39.32640  -77.74610  POINT (-77.74610 39.32640)  \n",
       "8      3.8  50.58896    5.84952    POINT (5.84952 50.58896)  \n",
       "9      4.4  50.59023    5.84809    POINT (5.84809 50.59023)  \n",
       "10     4.2  17.96525  102.60342  POINT (102.60342 17.96525)  \n",
       "11     4.0  17.96515  102.60300  POINT (102.60300 17.96515)  "
      ]
     },
     "execution_count": 5,
     "metadata": {},
     "output_type": "execute_result"
    }
   ],
   "source": [
    "df"
   ]
  },
  {
   "cell_type": "markdown",
   "metadata": {},
   "source": [
    "## And here's where it's from:"
   ]
  },
  {
   "cell_type": "code",
   "execution_count": 6,
   "metadata": {},
   "outputs": [
    {
     "data": {
      "text/plain": [
       "<matplotlib.axes._subplots.AxesSubplot at 0x11f15f438>"
      ]
     },
     "execution_count": 6,
     "metadata": {},
     "output_type": "execute_result"
    },
    {
     "data": {
      "text/plain": [
       "<Figure size 432x288 with 0 Axes>"
      ]
     },
     "metadata": {},
     "output_type": "display_data"
    },
    {
     "data": {
      "image/png": "[encoded data removed]",
      "text/plain": [
       "<Figure size 432x288 with 1 Axes>"
      ]
     },
     "metadata": {
      "needs_background": "light"
     },
     "output_type": "display_data"
    }
   ],
   "source": [
    "world = gpd.read_file(gpd.datasets.get_path('naturalearth_lowres'))\n",
    "fig = plt.figure()\n",
    "ax = world.plot(color='white', edgecolor='black')\n",
    "df.plot(ax=ax, color='red')"
   ]
  },
  {
   "cell_type": "markdown",
   "metadata": {},
   "source": [
    "## Question: Are neighboring restaurants more similar than randomly chosen pairs?"
   ]
  },
  {
   "cell_type": "code",
   "execution_count": 77,
   "metadata": {},
   "outputs": [
    {
     "name": "stdout",
     "output_type": "stream",
     "text": [
      "0.3984848484848486\n",
      "0.18333333333333343\n"
     ]
    }
   ],
   "source": [
    "# Calculate Difference between pairs of data\n",
    "target = df['Rating']\n",
    "pair_diffs = np.zeros(N//2)\n",
    "for i in range(N//2):\n",
    "    ind1 = 2*i\n",
    "    ind2 = 2*i+1\n",
    "    pair_diffs[i] = abs(target[ind1] - target[ind2])\n",
    "\n",
    "all_diffs = np.zeros(shape = [N,N])\n",
    "for ind1 in range(N):\n",
    "    for ind2 in range(N):\n",
    "        all_diffs[ind1,ind2] = abs(target[ind1] - target[ind2])\n",
    "diffs_vec = all_diffs[np.tril_indices(N, k = -1)]\n",
    "\n",
    "print(np.mean(diffs_vec))\n",
    "print(np.mean(pair_diffs))"
   ]
  },
  {
   "cell_type": "markdown",
   "metadata": {},
   "source": [
    "# Exploring Correlation"
   ]
  },
  {
   "cell_type": "markdown",
   "metadata": {},
   "source": [
    "## What's correlated?"
   ]
  },
  {
   "cell_type": "code",
   "execution_count": 8,
   "metadata": {},
   "outputs": [
    {
     "data": {
      "text/plain": [
       "<matplotlib.collections.PathCollection at 0x121316fd0>"
      ]
     },
     "execution_count": 8,
     "metadata": {},
     "output_type": "execute_result"
    },
    {
     "data": {
      "image/png": "[encoded data removed]",
      "text/plain": [
       "<Figure size 432x288 with 1 Axes>"
      ]
     },
     "metadata": {
      "needs_background": "light"
     },
     "output_type": "display_data"
    }
   ],
   "source": [
    "K = 10\n",
    "x = np.random.normal(size=K)\n",
    "\n",
    "covmat = np.eye(K)\n",
    "corr = 0.999\n",
    "for b in range(K//2):\n",
    "    covmat[2*b,2*b+1] = covmat[2*b+1,2*b] = corr\n",
    "L = np.linalg.cholesky(covmat)\n",
    "x = L @ x\n",
    "\n",
    "plt.scatter(range(len(x)), x)\n",
    "#print(covmat)"
   ]
  },
  {
   "cell_type": "code",
   "execution_count": 9,
   "metadata": {},
   "outputs": [
    {
     "data": {
      "text/plain": [
       "<matplotlib.collections.PathCollection at 0x1213638d0>"
      ]
     },
     "execution_count": 9,
     "metadata": {},
     "output_type": "execute_result"
    },
    {
     "data": {
      "image/png": "[encoded data removed]",
      "text/plain": [
       "<Figure size 432x288 with 1 Axes>"
      ]
     },
     "metadata": {
      "needs_background": "light"
     },
     "output_type": "display_data"
    }
   ],
   "source": [
    "K = 10\n",
    "x = np.random.normal(size=K)\n",
    "\n",
    "covmat = np.eye(K)\n",
    "corr = 0.999\n",
    "for b in range(K//3):\n",
    "    covmat[3*b,3*b+1] = covmat[3*b+1,3*b] = corr\n",
    "    covmat[3*b,3*b+2] = covmat[3*b+2,3*b] = corr\n",
    "    covmat[3*b+1,3*b+2] = covmat[3*b+2,3*b+1] = corr\n",
    "L = np.linalg.cholesky(covmat)\n",
    "x = L @ x\n",
    "\n",
    "plt.scatter(range(len(x)), x)\n",
    "#print(covmat)"
   ]
  },
  {
   "cell_type": "code",
   "execution_count": 10,
   "metadata": {},
   "outputs": [
    {
     "data": {
      "text/plain": [
       "<matplotlib.collections.PathCollection at 0x1214f2d68>"
      ]
     },
     "execution_count": 10,
     "metadata": {},
     "output_type": "execute_result"
    },
    {
     "data": {
      "image/png": "[encoded data removed]",
      "text/plain": [
       "<Figure size 432x288 with 1 Axes>"
      ]
     },
     "metadata": {
      "needs_background": "light"
     },
     "output_type": "display_data"
    }
   ],
   "source": [
    "#### What's a Covariance/Correlation?\n",
    "K = 10\n",
    "x = np.random.normal(size=K)\n",
    "\n",
    "corr = 0.999\n",
    "covmat = np.concatenate([np.concatenate([(1-corr)*np.eye(K//2)+corr*np.ones([K//2,K//2]), np.zeros([K//2,K//2])]), np.concatenate([np.zeros([K//2,K//2]), (1-corr)*np.eye(K//2)+corr*np.ones([K//2,K//2])])], axis = 1)\n",
    "\n",
    "L = np.linalg.cholesky(covmat)\n",
    "x = L @ x\n",
    "\n",
    "plt.scatter(range(len(x)), x)\n",
    "#print(covmat)"
   ]
  },
  {
   "cell_type": "code",
   "execution_count": 11,
   "metadata": {},
   "outputs": [
    {
     "data": {
      "text/plain": [
       "<matplotlib.collections.PathCollection at 0x1215b4da0>"
      ]
     },
     "execution_count": 11,
     "metadata": {},
     "output_type": "execute_result"
    },
    {
     "data": {
      "image/png": "[encoded data removed]",
      "text/plain": [
       "<Figure size 432x288 with 1 Axes>"
      ]
     },
     "metadata": {
      "needs_background": "light"
     },
     "output_type": "display_data"
    }
   ],
   "source": [
    "#### What's a Covariance/Correlation?\n",
    "K = 10\n",
    "x = np.random.normal(size=K)\n",
    "\n",
    "covmat = np.eye(K)\n",
    "corr = 0.999\n",
    "for b in range(K//2):\n",
    "    covmat[2*b,K-2*b-1] = covmat[K-2*b-1,2*b] = corr\n",
    "L = np.linalg.cholesky(covmat)\n",
    "x = L @ x\n",
    "\n",
    "plt.scatter(range(len(x)), x)\n",
    "#print(covmat)"
   ]
  },
  {
   "cell_type": "code",
   "execution_count": 12,
   "metadata": {},
   "outputs": [
    {
     "data": {
      "text/plain": [
       "<matplotlib.collections.PathCollection at 0x121686828>"
      ]
     },
     "execution_count": 12,
     "metadata": {},
     "output_type": "execute_result"
    },
    {
     "data": {
      "image/png": "[encoded data removed]",
      "text/plain": [
       "<Figure size 432x288 with 1 Axes>"
      ]
     },
     "metadata": {
      "needs_background": "light"
     },
     "output_type": "display_data"
    }
   ],
   "source": [
    "K = 10\n",
    "x = np.random.normal(size=K)\n",
    "\n",
    "covmat = np.eye(K)\n",
    "corr = 0.999\n",
    "for b in range(K//2):\n",
    "    covmat[2*b,2*b+1] = covmat[2*b+1,2*b] = -corr\n",
    "L = np.linalg.cholesky(covmat)\n",
    "x = L @ x\n",
    "\n",
    "plt.scatter(range(len(x)), x)\n",
    "#print(covmat)"
   ]
  },
  {
   "cell_type": "markdown",
   "metadata": {},
   "source": [
    "# What Correlation Matrix should we use for our Data? Option 1: Pairs."
   ]
  },
  {
   "cell_type": "code",
   "execution_count": 13,
   "metadata": {},
   "outputs": [
    {
     "name": "stdout",
     "output_type": "stream",
     "text": [
      "[[1.  0.5 0.  0.  0.  0.  0.  0.  0.  0.  0.  0. ]\n",
      " [0.5 1.  0.  0.  0.  0.  0.  0.  0.  0.  0.  0. ]\n",
      " [0.  0.  1.  0.5 0.  0.  0.  0.  0.  0.  0.  0. ]\n",
      " [0.  0.  0.5 1.  0.  0.  0.  0.  0.  0.  0.  0. ]\n",
      " [0.  0.  0.  0.  1.  0.5 0.  0.  0.  0.  0.  0. ]\n",
      " [0.  0.  0.  0.  0.5 1.  0.  0.  0.  0.  0.  0. ]\n",
      " [0.  0.  0.  0.  0.  0.  1.  0.5 0.  0.  0.  0. ]\n",
      " [0.  0.  0.  0.  0.  0.  0.5 1.  0.  0.  0.  0. ]\n",
      " [0.  0.  0.  0.  0.  0.  0.  0.  1.  0.5 0.  0. ]\n",
      " [0.  0.  0.  0.  0.  0.  0.  0.  0.5 1.  0.  0. ]\n",
      " [0.  0.  0.  0.  0.  0.  0.  0.  0.  0.  1.  0.5]\n",
      " [0.  0.  0.  0.  0.  0.  0.  0.  0.  0.  0.5 1. ]]\n"
     ]
    }
   ],
   "source": [
    "paired_covmat = np.eye(N)\n",
    "corr = 0.5\n",
    "for b in range(N//2):\n",
    "    paired_covmat[2*b,2*b+1] = paired_covmat[2*b+1,2*b] = corr\n",
    "    \n",
    "print(paired_covmat)"
   ]
  },
  {
   "cell_type": "code",
   "execution_count": 14,
   "metadata": {},
   "outputs": [
    {
     "data": {
      "text/plain": [
       "<matplotlib.collections.PathCollection at 0x121756358>"
      ]
     },
     "execution_count": 14,
     "metadata": {},
     "output_type": "execute_result"
    },
    {
     "data": {
      "image/png": "[encoded data removed]",
      "text/plain": [
       "<Figure size 432x288 with 1 Axes>"
      ]
     },
     "metadata": {
      "needs_background": "light"
     },
     "output_type": "display_data"
    }
   ],
   "source": [
    "x = np.random.normal(size=N)\n",
    "L = np.linalg.cholesky(paired_covmat)\n",
    "x = L @ x\n",
    "\n",
    "plt.scatter(range(len(x)), x)"
   ]
  },
  {
   "cell_type": "markdown",
   "metadata": {},
   "source": [
    "## Fitting a Regression"
   ]
  },
  {
   "cell_type": "markdown",
   "metadata": {},
   "source": [
    "First, a good-ol' \"Ordinary Least Squares\" regression:"
   ]
  },
  {
   "cell_type": "code",
   "execution_count": 15,
   "metadata": {},
   "outputs": [
    {
     "name": "stdout",
     "output_type": "stream",
     "text": [
      "                            OLS Regression Results                            \n",
      "==============================================================================\n",
      "Dep. Variable:                 Rating   R-squared:                       0.339\n",
      "Model:                            OLS   Adj. R-squared:                  0.273\n",
      "Method:                 Least Squares   F-statistic:                     5.124\n",
      "Date:                Sun, 14 Nov 2021   Prob (F-statistic):             0.0471\n",
      "Time:                        17:32:36   Log-Likelihood:                -1.4914\n",
      "No. Observations:                  12   AIC:                             6.983\n",
      "Df Residuals:                      10   BIC:                             7.953\n",
      "Df Model:                           1                                         \n",
      "Covariance Type:            nonrobust                                         \n",
      "==============================================================================\n",
      "                 coef    std err          t      P>|t|      [0.025      0.975]\n",
      "------------------------------------------------------------------------------\n",
      "const          4.4669      0.107     41.772      0.000       4.229       4.705\n",
      "x1            -0.1310      0.058     -2.264      0.047      -0.260      -0.002\n",
      "==============================================================================\n",
      "Omnibus:                        2.951   Durbin-Watson:                   1.258\n",
      "Prob(Omnibus):                  0.229   Jarque-Bera (JB):                1.034\n",
      "Skew:                          -0.051   Prob(JB):                        0.596\n",
      "Kurtosis:                       1.566   Cond. No.                         2.56\n",
      "==============================================================================\n",
      "\n",
      "Warnings:\n",
      "[1] Standard Errors assume that the covariance matrix of the errors is correctly specified.\n"
     ]
    },
    {
     "name": "stderr",
     "output_type": "stream",
     "text": [
      "/anaconda3/lib/python3.7/site-packages/scipy/stats/stats.py:1604: UserWarning: kurtosistest only valid for n>=20 ... continuing anyway, n=12\n",
      "  \"anyway, n=%i\" % int(n))\n"
     ]
    }
   ],
   "source": [
    "xdat = np.array(df['Dollars']).reshape([N,1])\n",
    "ydat = df['Rating']\n",
    "ols_model = sm.OLS(ydat, sm.add_constant(xdat))\n",
    "results = ols_model.fit()\n",
    "print(results.summary())"
   ]
  },
  {
   "cell_type": "markdown",
   "metadata": {},
   "source": [
    "## Compare to this GLS regression:"
   ]
  },
  {
   "cell_type": "code",
   "execution_count": 16,
   "metadata": {},
   "outputs": [
    {
     "name": "stdout",
     "output_type": "stream",
     "text": [
      "                            GLS Regression Results                            \n",
      "==============================================================================\n",
      "Dep. Variable:                 Rating   R-squared:                       0.427\n",
      "Model:                            GLS   Adj. R-squared:                  0.369\n",
      "Method:                 Least Squares   F-statistic:                     7.438\n",
      "Date:                Sun, 14 Nov 2021   Prob (F-statistic):             0.0213\n",
      "Time:                        17:32:40   Log-Likelihood:                 1.0126\n",
      "No. Observations:                  12   AIC:                             1.975\n",
      "Df Residuals:                      10   BIC:                             2.945\n",
      "Df Model:                           1                                         \n",
      "Covariance Type:            nonrobust                                         \n",
      "==============================================================================\n",
      "                 coef    std err          t      P>|t|      [0.025      0.975]\n",
      "------------------------------------------------------------------------------\n",
      "const          4.4648      0.106     42.200      0.000       4.229       4.701\n",
      "x1            -0.1290      0.047     -2.727      0.021      -0.234      -0.024\n",
      "==============================================================================\n",
      "Omnibus:                        0.873   Durbin-Watson:                   1.454\n",
      "Prob(Omnibus):                  0.646   Jarque-Bera (JB):                0.658\n",
      "Skew:                           0.161   Prob(JB):                        0.720\n",
      "Kurtosis:                       1.899   Cond. No.                         2.70\n",
      "==============================================================================\n",
      "\n",
      "Warnings:\n",
      "[1] Standard Errors assume that the covariance matrix of the errors is correctly specified.\n"
     ]
    }
   ],
   "source": [
    "xdat = np.array(df['Dollars']).reshape([N,1])\n",
    "ydat = df['Rating']\n",
    "gls_model = sm.GLS(ydat, sm.add_constant(xdat), sigma=paired_covmat)\n",
    "results = gls_model.fit()\n",
    "print(results.summary())"
   ]
  },
  {
   "cell_type": "markdown",
   "metadata": {},
   "source": [
    "## Try it with a different correlation:"
   ]
  },
  {
   "cell_type": "code",
   "execution_count": 17,
   "metadata": {},
   "outputs": [
    {
     "name": "stdout",
     "output_type": "stream",
     "text": [
      "                            GLS Regression Results                            \n",
      "==============================================================================\n",
      "Dep. Variable:                 Rating   R-squared:                       0.427\n",
      "Model:                            GLS   Adj. R-squared:                  0.369\n",
      "Method:                 Least Squares   F-statistic:                     7.438\n",
      "Date:                Sun, 14 Nov 2021   Prob (F-statistic):             0.0213\n",
      "Time:                        17:32:43   Log-Likelihood:                 1.0126\n",
      "No. Observations:                  12   AIC:                             1.975\n",
      "Df Residuals:                      10   BIC:                             2.945\n",
      "Df Model:                           1                                         \n",
      "Covariance Type:            nonrobust                                         \n",
      "==============================================================================\n",
      "                 coef    std err          t      P>|t|      [0.025      0.975]\n",
      "------------------------------------------------------------------------------\n",
      "const          4.4648      0.106     42.200      0.000       4.229       4.701\n",
      "x1            -0.1290      0.047     -2.727      0.021      -0.234      -0.024\n",
      "==============================================================================\n",
      "Omnibus:                        0.873   Durbin-Watson:                   1.454\n",
      "Prob(Omnibus):                  0.646   Jarque-Bera (JB):                0.658\n",
      "Skew:                           0.161   Prob(JB):                        0.720\n",
      "Kurtosis:                       1.899   Cond. No.                         2.70\n",
      "==============================================================================\n",
      "\n",
      "Warnings:\n",
      "[1] Standard Errors assume that the covariance matrix of the errors is correctly specified.\n"
     ]
    }
   ],
   "source": [
    "paired_covmat = np.eye(N)\n",
    "corr = 0.5\n",
    "for b in range(N//2):\n",
    "    paired_covmat[2*b,2*b+1] = paired_covmat[2*b+1,2*b] = corr\n",
    "    \n",
    "xdat = np.array(df['Dollars']).reshape([N,1])\n",
    "ydat = df['Rating']\n",
    "gls_model = sm.GLS(ydat, sm.add_constant(xdat), sigma=paired_covmat)\n",
    "results = gls_model.fit()\n",
    "print(results.summary())"
   ]
  },
  {
   "cell_type": "markdown",
   "metadata": {},
   "source": [
    "## Let's take it more seriously:"
   ]
  },
  {
   "cell_type": "code",
   "execution_count": 18,
   "metadata": {},
   "outputs": [
    {
     "name": "stdout",
     "output_type": "stream",
     "text": [
      "[0.   0.01 0.02 0.03 0.04 0.05 0.06 0.07 0.08 0.09 0.1  0.11 0.12 0.13\n",
      " 0.14 0.15 0.16 0.17 0.18 0.19 0.2  0.21 0.22 0.23 0.24 0.25 0.26 0.27\n",
      " 0.28 0.29 0.3  0.31 0.32 0.33 0.34 0.35 0.36 0.37 0.38 0.39 0.4  0.41\n",
      " 0.42 0.43 0.44 0.45 0.46 0.47 0.48 0.49 0.5  0.51 0.52 0.53 0.54 0.55\n",
      " 0.56 0.57 0.58 0.59 0.6  0.61 0.62 0.63 0.64 0.65 0.66 0.67 0.68 0.69\n",
      " 0.7  0.71 0.72 0.73 0.74 0.75 0.76 0.77 0.78 0.79 0.8  0.81 0.82 0.83\n",
      " 0.84 0.85 0.86 0.87 0.88 0.89 0.9  0.91 0.92 0.93 0.94 0.95 0.96 0.97\n",
      " 0.98 0.99]\n"
     ]
    }
   ],
   "source": [
    "## Find the best correlation\n",
    "corrseq = np.linspace(0, 0.99, num = 100)\n",
    "print(corrseq)"
   ]
  },
  {
   "cell_type": "code",
   "execution_count": 19,
   "metadata": {},
   "outputs": [
    {
     "name": "stdout",
     "output_type": "stream",
     "text": [
      "0.86\n"
     ]
    },
    {
     "data": {
      "image/png": "[encoded data removed]",
      "text/plain": [
       "<Figure size 432x288 with 1 Axes>"
      ]
     },
     "metadata": {
      "needs_background": "light"
     },
     "output_type": "display_data"
    }
   ],
   "source": [
    "logliks = np.zeros(len(corrseq))\n",
    "for i,corr in enumerate(corrseq):\n",
    "    corrmat = np.eye(N)\n",
    "    for b in range(N//2):\n",
    "        corrmat[2*b,2*b+1] = corrmat[2*b+1,2*b] = corr\n",
    "\n",
    "    gls_model = sm.GLS(ydat, sm.add_constant(xdat), sigma=corrmat)\n",
    "    gls_results = gls_model.fit()\n",
    "    logliks[i] = gls_results.llf\n",
    "\n",
    "maximizing = np.argmax(logliks)\n",
    "plt.plot(corrseq, logliks)\n",
    "plt.vlines(corrseq[maximizing], ymin = min(logliks), ymax = max(logliks))\n",
    "print(corrseq[maximizing])"
   ]
  },
  {
   "cell_type": "markdown",
   "metadata": {},
   "source": [
    "# Covariance Model 2: Smoothly Decreasing Covariance"
   ]
  },
  {
   "cell_type": "markdown",
   "metadata": {},
   "source": [
    "### Haversine vs Euclidean Distance"
   ]
  },
  {
   "cell_type": "code",
   "execution_count": 20,
   "metadata": {},
   "outputs": [
    {
     "data": {
      "text/plain": [
       "<matplotlib.collections.PathCollection at 0x121729cc0>"
      ]
     },
     "execution_count": 20,
     "metadata": {},
     "output_type": "execute_result"
    },
    {
     "data": {
      "image/png": "[encoded data removed]",
      "text/plain": [
       "<Figure size 432x288 with 1 Axes>"
      ]
     },
     "metadata": {
      "needs_background": "light"
     },
     "output_type": "display_data"
    }
   ],
   "source": [
    "# gives distance in kilometers.\n",
    "all_dists_haver = 6371000/1000*haversine_distances(df.loc[:,[\"Lat\",\"Long\"]], df.loc[:,[\"Lat\",\"Long\"]])\n",
    "all_dists_euclid = euclidean_distances(df.loc[:,[\"Lat\",\"Long\"]], df.loc[:,[\"Lat\",\"Long\"]])\n",
    "haver_vec = all_dists_haver[np.tril_indices(N, k = -1)]\n",
    "euclid_vec = all_dists_euclid[np.tril_indices(N, k = -1)]\n",
    "\n",
    "plt.scatter(haver_vec, euclid_vec)"
   ]
  },
  {
   "cell_type": "markdown",
   "metadata": {},
   "source": [
    "### Variogram:"
   ]
  },
  {
   "cell_type": "code",
   "execution_count": 21,
   "metadata": {},
   "outputs": [
    {
     "data": {
      "image/png": "[encoded data removed]",
      "text/plain": [
       "<Figure size 432x288 with 1 Axes>"
      ]
     },
     "metadata": {
      "needs_background": "light"
     },
     "output_type": "display_data"
    }
   ],
   "source": [
    "\n",
    "plt.scatter(np.log10(haver_vec), diffs_vec)\n",
    "#plt.scatter(dists_vec, diffs_vec)\n",
    "plt.xlabel(\"Distances\")\n",
    "plt.ylabel(\"Difference\")\n",
    "plt.title(\"Variogram\")\n",
    "plt.tight_layout()\n"
   ]
  },
  {
   "cell_type": "markdown",
   "metadata": {},
   "source": [
    "### Correlation Functions:"
   ]
  },
  {
   "cell_type": "code",
   "execution_count": 48,
   "metadata": {},
   "outputs": [
    {
     "name": "stdout",
     "output_type": "stream",
     "text": [
      "[[0.00000000e+00 5.14575493e-01 1.86081845e+02 1.87651793e+02\n",
      "  2.41200251e+03 2.40992374e+03 2.60596214e+03 2.60573765e+03\n",
      "  7.32188039e+03 7.31118044e+03 1.72823262e+04 1.72836997e+04]\n",
      " [5.14575493e-01 0.00000000e+00 1.85739498e+02 1.87314165e+02\n",
      "  2.41188496e+03 2.40980598e+03 2.60579055e+03 2.60556611e+03\n",
      "  7.32141716e+03 7.31071741e+03 1.72826871e+04 1.72840604e+04]\n",
      " [1.86081845e+02 1.85739498e+02 0.00000000e+00 2.77009463e+00\n",
      "  2.25022707e+03 2.24811088e+03 2.43473835e+03 2.43452097e+03\n",
      "  7.27187888e+03 7.26134027e+03 1.72644440e+04 1.72657319e+04]\n",
      " [1.87651793e+02 1.87314165e+02 2.77009463e+00 0.00000000e+00\n",
      "  2.24771913e+03 2.24560342e+03 2.43238898e+03 2.43217145e+03\n",
      "  7.27368197e+03 7.26314531e+03 1.72619722e+04 1.72632595e+04]\n",
      " [2.41200251e+03 2.41188496e+03 2.25022707e+03 2.24771913e+03\n",
      "  0.00000000e+00 2.29356593e+00 3.30284306e+02 3.29959622e+02\n",
      "  8.02212525e+03 8.01413973e+03 1.55370135e+04 1.55376445e+04]\n",
      " [2.40992374e+03 2.40980598e+03 2.24811088e+03 2.24560342e+03\n",
      "  2.29356593e+00 0.00000000e+00 3.30612185e+02 3.30287323e+02\n",
      "  8.02048470e+03 8.01249688e+03 1.55392848e+04 1.55399160e+04]\n",
      " [2.60596214e+03 2.60579055e+03 2.43473835e+03 2.43238898e+03\n",
      "  3.30284306e+02 3.30612185e+02 0.00000000e+00 3.25805873e-01\n",
      "  7.82841645e+03 7.82082621e+03 1.55266899e+04 1.55271831e+04]\n",
      " [2.60573765e+03 2.60556611e+03 2.43452097e+03 2.43217145e+03\n",
      "  3.29959622e+02 3.30287323e+02 3.25805873e-01 0.00000000e+00\n",
      "  7.82858298e+03 7.82099232e+03 1.55267369e+04 1.55272302e+04]\n",
      " [7.32188039e+03 7.32141716e+03 7.27187888e+03 7.27368197e+03\n",
      "  8.02212525e+03 8.02048470e+03 7.82841645e+03 7.82858298e+03\n",
      "  0.00000000e+00 1.18342976e+01 1.52164463e+04 1.52146888e+04]\n",
      " [7.31118044e+03 7.31071741e+03 7.26134027e+03 7.26314531e+03\n",
      "  8.01413973e+03 8.01249688e+03 7.82082621e+03 7.82099232e+03\n",
      "  1.18342976e+01 0.00000000e+00 1.52279538e+04 1.52261965e+04]\n",
      " [1.72823262e+04 1.72826871e+04 1.72644440e+04 1.72619722e+04\n",
      "  1.55370135e+04 1.55392848e+04 1.55266899e+04 1.55267369e+04\n",
      "  1.52164463e+04 1.52279538e+04 0.00000000e+00 1.81162372e+00]\n",
      " [1.72836997e+04 1.72840604e+04 1.72657319e+04 1.72632595e+04\n",
      "  1.55376445e+04 1.55399160e+04 1.55271831e+04 1.55272302e+04\n",
      "  1.52146888e+04 1.52261965e+04 1.81162372e+00 0.00000000e+00]]\n",
      "[[0.00000000e+00 2.97716787e-05 1.07660955e-02 1.08569276e-02\n",
      "  1.39550687e-01 1.39430416e-01 1.50772566e-01 1.50759578e-01\n",
      "  4.23620389e-01 4.23001325e-01 9.99899663e-01 9.99979129e-01]\n",
      " [2.97716787e-05 0.00000000e+00 1.07462884e-02 1.08373936e-02\n",
      "  1.39543886e-01 1.39423603e-01 1.50762638e-01 1.50749653e-01\n",
      "  4.23593588e-01 4.22974535e-01 9.99920544e-01 1.00000000e+00]\n",
      " [1.07660955e-02 1.07462884e-02 0.00000000e+00 1.60268743e-04\n",
      "  1.30190882e-01 1.30068446e-01 1.40866109e-01 1.40853533e-01\n",
      "  4.20727463e-01 4.20117733e-01 9.98865059e-01 9.98939571e-01]\n",
      " [1.08569276e-02 1.08373936e-02 1.60268743e-04 0.00000000e+00\n",
      "  1.30045781e-01 1.29923372e-01 1.40730183e-01 1.40717597e-01\n",
      "  4.20831784e-01 4.20222166e-01 9.98722050e-01 9.98796527e-01]\n",
      " [1.39550687e-01 1.39543886e-01 1.30190882e-01 1.30045781e-01\n",
      "  0.00000000e+00 1.32698329e-04 1.91091849e-02 1.90903997e-02\n",
      "  4.64134298e-01 4.63672282e-01 8.98921497e-01 8.98958008e-01]\n",
      " [1.39430416e-01 1.39423603e-01 1.30068446e-01 1.29923372e-01\n",
      "  1.32698329e-04 0.00000000e+00 1.91281549e-02 1.91093595e-02\n",
      "  4.64039382e-01 4.63577232e-01 8.99052909e-01 8.99089428e-01]\n",
      " [1.50772566e-01 1.50762638e-01 1.40866109e-01 1.40730183e-01\n",
      "  1.91091849e-02 1.91281549e-02 0.00000000e+00 1.88500772e-05\n",
      "  4.52926932e-01 4.52487785e-01 8.98324210e-01 8.98352742e-01]\n",
      " [1.50759578e-01 1.50749653e-01 1.40853533e-01 1.40717597e-01\n",
      "  1.90903997e-02 1.91093595e-02 1.88500772e-05 0.00000000e+00\n",
      "  4.52936567e-01 4.52497396e-01 8.98326929e-01 8.98355469e-01]\n",
      " [4.23620389e-01 4.23593588e-01 4.20727463e-01 4.20831784e-01\n",
      "  4.64134298e-01 4.64039382e-01 4.52926932e-01 4.52936567e-01\n",
      "  0.00000000e+00 6.84694296e-04 8.80374518e-01 8.80272832e-01]\n",
      " [4.23001325e-01 4.22974535e-01 4.20117733e-01 4.20222166e-01\n",
      "  4.63672282e-01 4.63577232e-01 4.52487785e-01 4.52497396e-01\n",
      "  6.84694296e-04 0.00000000e+00 8.81040303e-01 8.80938633e-01]\n",
      " [9.99899663e-01 9.99920544e-01 9.98865059e-01 9.98722050e-01\n",
      "  8.98921497e-01 8.99052909e-01 8.98324210e-01 8.98326929e-01\n",
      "  8.80374518e-01 8.81040303e-01 0.00000000e+00 1.04814707e-04]\n",
      " [9.99979129e-01 1.00000000e+00 9.98939571e-01 9.98796527e-01\n",
      "  8.98958008e-01 8.99089428e-01 8.98352742e-01 8.98355469e-01\n",
      "  8.80272832e-01 8.80938633e-01 1.04814707e-04 0.00000000e+00]]\n"
     ]
    }
   ],
   "source": [
    "print(all_dists_haver)\n",
    "dists01 = all_dists_haver / np.max(all_dists_haver)\n",
    "print(dists01)"
   ]
  },
  {
   "cell_type": "code",
   "execution_count": 49,
   "metadata": {},
   "outputs": [
    {
     "data": {
      "image/png": "[encoded data removed]",
      "text/plain": [
       "<Figure size 432x288 with 1 Axes>"
      ]
     },
     "metadata": {
      "needs_background": "light"
     },
     "output_type": "display_data"
    }
   ],
   "source": [
    "cov_fun = lambda x, l: 1/(1+x*l)\n",
    "xs = np.linspace(0,1,100)\n",
    "ys = cov_fun(xs, 1.)\n",
    "\n",
    "#fig = plt.figure()\n",
    "plt.plot(xs, ys)\n",
    "plt.xlabel(\"Normalized Distance\")\n",
    "plt.ylabel(\"Correlation at that Distance\")\n",
    "plt.savefig(\"corr_vs_dist.pdf\")"
   ]
  },
  {
   "cell_type": "code",
   "execution_count": 54,
   "metadata": {},
   "outputs": [
    {
     "name": "stdout",
     "output_type": "stream",
     "text": [
      "1452.6539259467813\n"
     ]
    },
    {
     "data": {
      "image/png": "[encoded data removed]",
      "text/plain": [
       "<Figure size 432x288 with 1 Axes>"
      ]
     },
     "metadata": {
      "needs_background": "light"
     },
     "output_type": "display_data"
    }
   ],
   "source": [
    "lseq = np.logspace(-2,7,num=1000)\n",
    "\n",
    "logliks = np.zeros(len(lseq))\n",
    "for i,l in enumerate(lseq):\n",
    "    corrmat = cov_fun(dists01, l)\n",
    "\n",
    "    gls_model = sm.GLS(ydat, sm.add_constant(xdat), sigma=corrmat)\n",
    "    gls_results = gls_model.fit()\n",
    "    logliks[i] = gls_results.llf\n",
    "\n",
    "maximizing = np.argmax(logliks)\n",
    "plt.plot(np.log(lseq), logliks)\n",
    "plt.vlines(np.log(lseq[maximizing]), ymin = min(logliks), ymax = max(logliks))\n",
    "print(lseq[maximizing])"
   ]
  },
  {
   "cell_type": "markdown",
   "metadata": {},
   "source": [
    "### Overlay it with the variogram:"
   ]
  },
  {
   "cell_type": "code",
   "execution_count": 73,
   "metadata": {},
   "outputs": [
    {
     "data": {
      "image/png": "[encoded data removed]",
      "text/plain": [
       "<Figure size 432x288 with 2 Axes>"
      ]
     },
     "metadata": {
      "needs_background": "light"
     },
     "output_type": "display_data"
    }
   ],
   "source": [
    "l = lseq[maximizing]\n",
    "\n",
    "hv01 = haver_vec / np.max(haver_vec)\n",
    "xs = np.logspace(-5,0)\n",
    "\n",
    "ax1 = plt.gca()\n",
    "ax2 = ax1.twinx()  \n",
    "ax1.plot(np.log10(xs), 2-2*cov_fun(xs, l), color = 'orange')\n",
    "ax2.scatter(np.log10(hv01), diffs_vec)\n",
    "ax1.set_xlabel(\"log10Distances\")\n",
    "ax1.set_ylabel(\"Empirical\")\n",
    "ax2.set_ylabel(\"Theoretical\")\n",
    "plt.title(\"Variogram\")\n",
    "plt.tight_layout()\n"
   ]
  },
  {
   "cell_type": "markdown",
   "metadata": {},
   "source": [
    "## Correlation can Obscure or Hallucinate Relationships:"
   ]
  },
  {
   "cell_type": "code",
   "execution_count": 11,
   "metadata": {},
   "outputs": [
    {
     "data": {
      "text/plain": [
       "Text(0.5, 1.0, 'Input')"
      ]
     },
     "execution_count": 11,
     "metadata": {},
     "output_type": "execute_result"
    },
    {
     "data": {
      "image/png": "[encoded data removed]",
      "text/plain": [
       "<Figure size 720x720 with 3 Axes>"
      ]
     },
     "metadata": {
      "needs_background": "light"
     },
     "output_type": "display_data"
    }
   ],
   "source": [
    "import numpy as np\n",
    "import matplotlib.pyplot as plt \n",
    "from scipy.spatial import distance_matrix\n",
    "#import matplotlib.mlab as ml\n",
    "from scipy.interpolate import griddata\n",
    "\n",
    "np.random.seed(123)\n",
    "\n",
    "N = 50\n",
    "noise = 1e-1\n",
    "\n",
    "latlong = np.random.uniform(size=[N,2])\n",
    "\n",
    "dists = distance_matrix(latlong, latlong)\n",
    "\n",
    "ell = 5.e-1\n",
    "K = np.exp(-np.square(dists)/ell)\n",
    "K = K + 1e-6 * np.eye(N)\n",
    "L = np.linalg.cholesky(K)\n",
    "random_field = L @ np.random.normal(size=N)\n",
    "\n",
    "x = np.random.normal(size=N)\n",
    "#x = random_field + 0.1 * np.random.normal(size=N)\n",
    "y = (x * 0.5).flatten() + random_field + np.random.normal(size=N,scale=noise)\n",
    "#y = random_field + np.random.normal(size=N,scale=noise)\n",
    "\n",
    "fig = plt.figure(figsize=[10,10])\n",
    "plt.subplot(2,2,1)\n",
    "plt.scatter(latlong[:,0], latlong[:,1], c = random_field)\n",
    "plt.title(\"Latent Correlation\")\n",
    "plt.subplot(2,2,2)\n",
    "plt.scatter(latlong[:,0], latlong[:,1], c = y)\n",
    "plt.title(\"Response\")\n",
    "plt.subplot(2,2,3)\n",
    "plt.scatter(latlong[:,0], latlong[:,1], c = x)\n",
    "plt.title(\"Input\")\n"
   ]
  },
  {
   "cell_type": "code",
   "execution_count": 12,
   "metadata": {},
   "outputs": [
    {
     "data": {
      "text/html": [
       "<table class=\"simpletable\">\n",
       "<caption>OLS Regression Results</caption>\n",
       "<tr>\n",
       "  <th>Dep. Variable:</th>            <td>y</td>        <th>  R-squared (uncentered):</th>      <td>   0.995</td>\n",
       "</tr>\n",
       "<tr>\n",
       "  <th>Model:</th>                   <td>OLS</td>       <th>  Adj. R-squared (uncentered):</th> <td>   0.995</td>\n",
       "</tr>\n",
       "<tr>\n",
       "  <th>Method:</th>             <td>Least Squares</td>  <th>  F-statistic:       </th>          <td>   9175.</td>\n",
       "</tr>\n",
       "<tr>\n",
       "  <th>Date:</th>             <td>Tue, 16 Nov 2021</td> <th>  Prob (F-statistic):</th>          <td>2.11e-57</td>\n",
       "</tr>\n",
       "<tr>\n",
       "  <th>Time:</th>                 <td>15:34:38</td>     <th>  Log-Likelihood:    </th>          <td>  30.662</td>\n",
       "</tr>\n",
       "<tr>\n",
       "  <th>No. Observations:</th>      <td>    50</td>      <th>  AIC:               </th>          <td>  -59.32</td>\n",
       "</tr>\n",
       "<tr>\n",
       "  <th>Df Residuals:</th>          <td>    49</td>      <th>  BIC:               </th>          <td>  -57.41</td>\n",
       "</tr>\n",
       "<tr>\n",
       "  <th>Df Model:</th>              <td>     1</td>      <th>                     </th>              <td> </td>   \n",
       "</tr>\n",
       "<tr>\n",
       "  <th>Covariance Type:</th>      <td>nonrobust</td>    <th>                     </th>              <td> </td>   \n",
       "</tr>\n",
       "</table>\n",
       "<table class=\"simpletable\">\n",
       "<tr>\n",
       "   <td></td>     <th>coef</th>     <th>std err</th>      <th>t</th>      <th>P>|t|</th>  <th>[0.025</th>    <th>0.975]</th>  \n",
       "</tr>\n",
       "<tr>\n",
       "  <th>x1</th> <td>    0.9902</td> <td>    0.010</td> <td>   95.785</td> <td> 0.000</td> <td>    0.969</td> <td>    1.011</td>\n",
       "</tr>\n",
       "</table>\n",
       "<table class=\"simpletable\">\n",
       "<tr>\n",
       "  <th>Omnibus:</th>       <td> 2.616</td> <th>  Durbin-Watson:     </th> <td>   1.496</td>\n",
       "</tr>\n",
       "<tr>\n",
       "  <th>Prob(Omnibus):</th> <td> 0.270</td> <th>  Jarque-Bera (JB):  </th> <td>   1.656</td>\n",
       "</tr>\n",
       "<tr>\n",
       "  <th>Skew:</th>          <td> 0.363</td> <th>  Prob(JB):          </th> <td>   0.437</td>\n",
       "</tr>\n",
       "<tr>\n",
       "  <th>Kurtosis:</th>      <td> 3.517</td> <th>  Cond. No.          </th> <td>    1.00</td>\n",
       "</tr>\n",
       "</table><br/><br/>Notes:<br/>[1] R² is computed without centering (uncentered) since the model does not contain a constant.<br/>[2] Standard Errors assume that the covariance matrix of the errors is correctly specified."
      ],
      "text/plain": [
       "<class 'statsmodels.iolib.summary.Summary'>\n",
       "\"\"\"\n",
       "                                 OLS Regression Results                                \n",
       "=======================================================================================\n",
       "Dep. Variable:                      y   R-squared (uncentered):                   0.995\n",
       "Model:                            OLS   Adj. R-squared (uncentered):              0.995\n",
       "Method:                 Least Squares   F-statistic:                              9175.\n",
       "Date:                Tue, 16 Nov 2021   Prob (F-statistic):                    2.11e-57\n",
       "Time:                        15:34:38   Log-Likelihood:                          30.662\n",
       "No. Observations:                  50   AIC:                                     -59.32\n",
       "Df Residuals:                      49   BIC:                                     -57.41\n",
       "Df Model:                           1                                                  \n",
       "Covariance Type:            nonrobust                                                  \n",
       "==============================================================================\n",
       "                 coef    std err          t      P>|t|      [0.025      0.975]\n",
       "------------------------------------------------------------------------------\n",
       "x1             0.9902      0.010     95.785      0.000       0.969       1.011\n",
       "==============================================================================\n",
       "Omnibus:                        2.616   Durbin-Watson:                   1.496\n",
       "Prob(Omnibus):                  0.270   Jarque-Bera (JB):                1.656\n",
       "Skew:                           0.363   Prob(JB):                        0.437\n",
       "Kurtosis:                       3.517   Cond. No.                         1.00\n",
       "==============================================================================\n",
       "\n",
       "Notes:\n",
       "[1] R² is computed without centering (uncentered) since the model does not contain a constant.\n",
       "[2] Standard Errors assume that the covariance matrix of the errors is correctly specified.\n",
       "\"\"\""
      ]
     },
     "execution_count": 12,
     "metadata": {},
     "output_type": "execute_result"
    }
   ],
   "source": [
    "fit = sm.OLS(y, x)\n",
    "results = fit.fit()\n",
    "results.summary()"
   ]
  },
  {
   "cell_type": "code",
   "execution_count": 13,
   "metadata": {},
   "outputs": [
    {
     "data": {
      "text/html": [
       "<table class=\"simpletable\">\n",
       "<caption>GLS Regression Results</caption>\n",
       "<tr>\n",
       "  <th>Dep. Variable:</th>            <td>y</td>        <th>  R-squared (uncentered):</th>      <td>   0.062</td>\n",
       "</tr>\n",
       "<tr>\n",
       "  <th>Model:</th>                   <td>GLS</td>       <th>  Adj. R-squared (uncentered):</th> <td>   0.043</td>\n",
       "</tr>\n",
       "<tr>\n",
       "  <th>Method:</th>             <td>Least Squares</td>  <th>  F-statistic:       </th>          <td>   3.233</td>\n",
       "</tr>\n",
       "<tr>\n",
       "  <th>Date:</th>             <td>Tue, 16 Nov 2021</td> <th>  Prob (F-statistic):</th>           <td>0.0783</td> \n",
       "</tr>\n",
       "<tr>\n",
       "  <th>Time:</th>                 <td>15:34:39</td>     <th>  Log-Likelihood:    </th>          <td>  24.596</td>\n",
       "</tr>\n",
       "<tr>\n",
       "  <th>No. Observations:</th>      <td>    50</td>      <th>  AIC:               </th>          <td>  -47.19</td>\n",
       "</tr>\n",
       "<tr>\n",
       "  <th>Df Residuals:</th>          <td>    49</td>      <th>  BIC:               </th>          <td>  -45.28</td>\n",
       "</tr>\n",
       "<tr>\n",
       "  <th>Df Model:</th>              <td>     1</td>      <th>                     </th>              <td> </td>   \n",
       "</tr>\n",
       "<tr>\n",
       "  <th>Covariance Type:</th>      <td>nonrobust</td>    <th>                     </th>              <td> </td>   \n",
       "</tr>\n",
       "</table>\n",
       "<table class=\"simpletable\">\n",
       "<tr>\n",
       "   <td></td>     <th>coef</th>     <th>std err</th>      <th>t</th>      <th>P>|t|</th>  <th>[0.025</th>    <th>0.975]</th>  \n",
       "</tr>\n",
       "<tr>\n",
       "  <th>x1</th> <td>    0.2515</td> <td>    0.140</td> <td>    1.798</td> <td> 0.078</td> <td>   -0.030</td> <td>    0.533</td>\n",
       "</tr>\n",
       "</table>\n",
       "<table class=\"simpletable\">\n",
       "<tr>\n",
       "  <th>Omnibus:</th>       <td> 6.436</td> <th>  Durbin-Watson:     </th> <td>   2.013</td>\n",
       "</tr>\n",
       "<tr>\n",
       "  <th>Prob(Omnibus):</th> <td> 0.040</td> <th>  Jarque-Bera (JB):  </th> <td>  10.159</td>\n",
       "</tr>\n",
       "<tr>\n",
       "  <th>Skew:</th>          <td>-0.089</td> <th>  Prob(JB):          </th> <td> 0.00622</td>\n",
       "</tr>\n",
       "<tr>\n",
       "  <th>Kurtosis:</th>      <td> 5.201</td> <th>  Cond. No.          </th> <td>    1.00</td>\n",
       "</tr>\n",
       "</table><br/><br/>Notes:<br/>[1] R² is computed without centering (uncentered) since the model does not contain a constant.<br/>[2] Standard Errors assume that the covariance matrix of the errors is correctly specified."
      ],
      "text/plain": [
       "<class 'statsmodels.iolib.summary.Summary'>\n",
       "\"\"\"\n",
       "                                 GLS Regression Results                                \n",
       "=======================================================================================\n",
       "Dep. Variable:                      y   R-squared (uncentered):                   0.062\n",
       "Model:                            GLS   Adj. R-squared (uncentered):              0.043\n",
       "Method:                 Least Squares   F-statistic:                              3.233\n",
       "Date:                Tue, 16 Nov 2021   Prob (F-statistic):                      0.0783\n",
       "Time:                        15:34:39   Log-Likelihood:                          24.596\n",
       "No. Observations:                  50   AIC:                                     -47.19\n",
       "Df Residuals:                      49   BIC:                                     -45.28\n",
       "Df Model:                           1                                                  \n",
       "Covariance Type:            nonrobust                                                  \n",
       "==============================================================================\n",
       "                 coef    std err          t      P>|t|      [0.025      0.975]\n",
       "------------------------------------------------------------------------------\n",
       "x1             0.2515      0.140      1.798      0.078      -0.030       0.533\n",
       "==============================================================================\n",
       "Omnibus:                        6.436   Durbin-Watson:                   2.013\n",
       "Prob(Omnibus):                  0.040   Jarque-Bera (JB):               10.159\n",
       "Skew:                          -0.089   Prob(JB):                      0.00622\n",
       "Kurtosis:                       5.201   Cond. No.                         1.00\n",
       "==============================================================================\n",
       "\n",
       "Notes:\n",
       "[1] R² is computed without centering (uncentered) since the model does not contain a constant.\n",
       "[2] Standard Errors assume that the covariance matrix of the errors is correctly specified.\n",
       "\"\"\""
      ]
     },
     "execution_count": 13,
     "metadata": {},
     "output_type": "execute_result"
    }
   ],
   "source": [
    "corrmat = K + np.square(noise)*np.eye(N)\n",
    "fit = sm.GLS(y, x, sigma = corrmat)\n",
    "results = fit.fit()\n",
    "results.summary()"
   ]
  },
  {
   "cell_type": "code",
   "execution_count": null,
   "metadata": {},
   "outputs": [],
   "source": []
  }
 ],
 "metadata": {
  "kernelspec": {
   "display_name": "Python 3 (ipykernel)",
   "language": "python",
   "name": "python3"
  },
  "language_info": {
   "codemirror_mode": {
    "name": "ipython",
    "version": 3
   },
   "file_extension": ".py",
   "mimetype": "text/x-python",
   "name": "python",
   "nbconvert_exporter": "python",
   "pygments_lexer": "ipython3",
   "version": "3.9.7"
  }
 },
 "nbformat": 4,
 "nbformat_minor": 4
}
